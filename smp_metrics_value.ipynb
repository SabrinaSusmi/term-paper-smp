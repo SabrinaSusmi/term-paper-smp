{
  "nbformat": 4,
  "nbformat_minor": 0,
  "metadata": {
    "colab": {
      "provenance": []
    },
    "kernelspec": {
      "name": "python3",
      "display_name": "Python 3"
    },
    "language_info": {
      "name": "python"
    }
  },
  "cells": [
    {
      "cell_type": "markdown",
      "source": [
        "# metrics summary according to refactoringType_before/after"
      ],
      "metadata": {
        "id": "Nf8rJnc_4tmi"
      }
    },
    {
      "cell_type": "code",
      "execution_count": null,
      "metadata": {
        "id": "qY3zB-zQco6v"
      },
      "outputs": [],
      "source": [
        "import pandas as pd\n",
        "import os\n",
        "import glob\n",
        "import os.path\n",
        "from os import path"
      ]
    },
    {
      "cell_type": "code",
      "source": [
        "# !pip install --upgrade --no-cache-dir gdown"
      ],
      "metadata": {
        "id": "lzUnrCFCtLZw"
      },
      "execution_count": null,
      "outputs": []
    },
    {
      "cell_type": "code",
      "source": [
        "!gdown 1FHV365woPZnYa3yAsQOzgoCn0e5elUtx\n",
        "!unzip /content/susmi_twiter_sort.zip"
      ],
      "metadata": {
        "id": "Y7CyJ0FWss8u"
      },
      "execution_count": null,
      "outputs": []
    },
    {
      "cell_type": "code",
      "source": [
        "directory = \"/content/twitter4j\"\n",
        "refactoring_types=[]\n",
        "before_after=[]\n",
        "for root, subdirectories, files in os.walk(directory):\n",
        "    for subdirectory in subdirectories:\n",
        "      refactoring_types.append(os.path.join(root, subdirectory))\n",
        "      before_after.append(os.path.join(root, subdirectory))\n",
        "\n",
        "print(before_after)\n",
        "before_after=before_after[20:]\n",
        "refactoring_types=refactoring_types[:20]\n",
        "print(before_after)\n"
      ],
      "metadata": {
        "colab": {
          "base_uri": "https://localhost:8080/"
        },
        "id": "S3bNYL6tzasF",
        "outputId": "ace1d0aa-74f4-48db-a7b3-68561840cf39"
      },
      "execution_count": null,
      "outputs": [
        {
          "output_type": "stream",
          "name": "stdout",
          "text": [
            "['/content/twitter4j/addParameter', '/content/twitter4j/extractClass', '/content/twitter4j/mergeAttribute', '/content/twitter4j/removeParameter', '/content/twitter4j/pullUpMethod', '/content/twitter4j/encapsulateAttribute', '/content/twitter4j/pullUpAttribute', '/content/twitter4j/moveAttribute', '/content/twitter4j/moveClass', '/content/twitter4j/extractSuperclass', '/content/twitter4j/extractSubclass', '/content/twitter4j/changeMethodAccessModifier', '/content/twitter4j/moveMethod', '/content/twitter4j/inlineMethod', '/content/twitter4j/addMethodModifier', '/content/twitter4j/pushDownMethod', '/content/twitter4j/collapseHierarchy', '/content/twitter4j/extractMethod', '/content/twitter4j/pushDownAttribute', '/content/twitter4j/changeAttributeAccessModifier', '/content/twitter4j/addParameter/before', '/content/twitter4j/addParameter/after', '/content/twitter4j/extractClass/before', '/content/twitter4j/extractClass/after', '/content/twitter4j/mergeAttribute/before', '/content/twitter4j/mergeAttribute/after', '/content/twitter4j/removeParameter/before', '/content/twitter4j/removeParameter/after', '/content/twitter4j/pullUpMethod/before', '/content/twitter4j/pullUpMethod/after', '/content/twitter4j/encapsulateAttribute/before', '/content/twitter4j/encapsulateAttribute/after', '/content/twitter4j/pullUpAttribute/before', '/content/twitter4j/pullUpAttribute/after', '/content/twitter4j/moveAttribute/before', '/content/twitter4j/moveAttribute/after', '/content/twitter4j/moveClass/before', '/content/twitter4j/moveClass/after', '/content/twitter4j/extractSuperclass/before', '/content/twitter4j/extractSuperclass/after', '/content/twitter4j/extractSubclass/before', '/content/twitter4j/extractSubclass/after', '/content/twitter4j/changeMethodAccessModifier/before', '/content/twitter4j/changeMethodAccessModifier/after', '/content/twitter4j/moveMethod/before', '/content/twitter4j/moveMethod/after', '/content/twitter4j/inlineMethod/before', '/content/twitter4j/inlineMethod/after', '/content/twitter4j/addMethodModifier/before', '/content/twitter4j/addMethodModifier/after', '/content/twitter4j/pushDownMethod/before', '/content/twitter4j/pushDownMethod/after', '/content/twitter4j/collapseHierarchy/before', '/content/twitter4j/collapseHierarchy/after', '/content/twitter4j/extractMethod/before', '/content/twitter4j/extractMethod/after', '/content/twitter4j/pushDownAttribute/before', '/content/twitter4j/pushDownAttribute/after', '/content/twitter4j/changeAttributeAccessModifier/before', '/content/twitter4j/changeAttributeAccessModifier/after']\n",
            "['/content/twitter4j/addParameter/before', '/content/twitter4j/addParameter/after', '/content/twitter4j/extractClass/before', '/content/twitter4j/extractClass/after', '/content/twitter4j/mergeAttribute/before', '/content/twitter4j/mergeAttribute/after', '/content/twitter4j/removeParameter/before', '/content/twitter4j/removeParameter/after', '/content/twitter4j/pullUpMethod/before', '/content/twitter4j/pullUpMethod/after', '/content/twitter4j/encapsulateAttribute/before', '/content/twitter4j/encapsulateAttribute/after', '/content/twitter4j/pullUpAttribute/before', '/content/twitter4j/pullUpAttribute/after', '/content/twitter4j/moveAttribute/before', '/content/twitter4j/moveAttribute/after', '/content/twitter4j/moveClass/before', '/content/twitter4j/moveClass/after', '/content/twitter4j/extractSuperclass/before', '/content/twitter4j/extractSuperclass/after', '/content/twitter4j/extractSubclass/before', '/content/twitter4j/extractSubclass/after', '/content/twitter4j/changeMethodAccessModifier/before', '/content/twitter4j/changeMethodAccessModifier/after', '/content/twitter4j/moveMethod/before', '/content/twitter4j/moveMethod/after', '/content/twitter4j/inlineMethod/before', '/content/twitter4j/inlineMethod/after', '/content/twitter4j/addMethodModifier/before', '/content/twitter4j/addMethodModifier/after', '/content/twitter4j/pushDownMethod/before', '/content/twitter4j/pushDownMethod/after', '/content/twitter4j/collapseHierarchy/before', '/content/twitter4j/collapseHierarchy/after', '/content/twitter4j/extractMethod/before', '/content/twitter4j/extractMethod/after', '/content/twitter4j/pushDownAttribute/before', '/content/twitter4j/pushDownAttribute/after', '/content/twitter4j/changeAttributeAccessModifier/before', '/content/twitter4j/changeAttributeAccessModifier/after']\n"
          ]
        }
      ]
    },
    {
      "cell_type": "code",
      "source": [
        "before_after=before_after[20:]\n",
        "refactoring_types=refactoring_types[:20]\n",
        "before_after"
      ],
      "metadata": {
        "id": "Ffl9sYd8YYuI"
      },
      "execution_count": null,
      "outputs": []
    },
    {
      "cell_type": "code",
      "source": [
        "# before_after.remove('/content/ta4j/encapsulateAttribute/.ipynb_checkpoints')"
      ],
      "metadata": {
        "id": "IGa4duViYjB4"
      },
      "execution_count": null,
      "outputs": []
    },
    {
      "cell_type": "code",
      "source": [
        "# refactoring_types.remove('/content/ta4j/.ipynb_checkpoints')\n",
        "refactoring_types"
      ],
      "metadata": {
        "colab": {
          "base_uri": "https://localhost:8080/"
        },
        "id": "0PxePv_kHIxw",
        "outputId": "f51a2d32-f302-467a-f04b-419310c9e116"
      },
      "execution_count": null,
      "outputs": [
        {
          "output_type": "execute_result",
          "data": {
            "text/plain": [
              "['/content/twitter4j/addParameter',\n",
              " '/content/twitter4j/extractClass',\n",
              " '/content/twitter4j/mergeAttribute',\n",
              " '/content/twitter4j/removeParameter',\n",
              " '/content/twitter4j/pullUpMethod',\n",
              " '/content/twitter4j/encapsulateAttribute',\n",
              " '/content/twitter4j/pullUpAttribute',\n",
              " '/content/twitter4j/moveAttribute',\n",
              " '/content/twitter4j/moveClass',\n",
              " '/content/twitter4j/extractSuperclass',\n",
              " '/content/twitter4j/extractSubclass',\n",
              " '/content/twitter4j/changeMethodAccessModifier',\n",
              " '/content/twitter4j/moveMethod',\n",
              " '/content/twitter4j/inlineMethod',\n",
              " '/content/twitter4j/addMethodModifier',\n",
              " '/content/twitter4j/pushDownMethod',\n",
              " '/content/twitter4j/collapseHierarchy',\n",
              " '/content/twitter4j/extractMethod',\n",
              " '/content/twitter4j/pushDownAttribute',\n",
              " '/content/twitter4j/changeAttributeAccessModifier']"
            ]
          },
          "metadata": {},
          "execution_count": 5
        }
      ]
    },
    {
      "cell_type": "code",
      "source": [
        "if path.exists('/content/output/') == False:\n",
        "    os.mkdir('/content/output')\n",
        "\n",
        "for r_type in refactoring_types:\n",
        "  dir_name = os.path.basename(r_type)\n",
        "  if path.exists('/content/output/'+dir_name) == False:\n",
        "     os.mkdir('/content/output/'+dir_name)"
      ],
      "metadata": {
        "id": "Vprp24MWGeMe"
      },
      "execution_count": null,
      "outputs": []
    },
    {
      "cell_type": "code",
      "source": [
        "for i in before_after:\n",
        "  csv_files = glob.glob(i + \"/*.csv\")\n",
        "  li=[]\n",
        "  before_after_commits=[]\n",
        "  refactoring_type=[]\n",
        "  for filename in csv_files:\n",
        "      commit = (os.path.basename(filename[:-4]))\n",
        "      dir_name = os.path.dirname(filename)\n",
        "      before_after_folder_name= os.path.basename(dir_name)\n",
        "      before_after_commits.append(before_after_folder_name)\n",
        "      refactoring_type_folder_name= os.path.basename(os.path.dirname(dir_name))\n",
        "      refactoring_type.append(refactoring_type_folder_name)\n",
        "      df = pd.read_csv(filename, index_col=None)\n",
        "      output_mean =round(df.mean(axis=0), 5) \n",
        "      transpose = output_mean.to_frame().transpose()\n",
        "      transpose[\"commitID\"]=commit;\n",
        "      first_column = transpose.pop('commitID')\n",
        "      transpose.insert(0, 'commitID', first_column)\n",
        "      li.append(transpose)\n",
        "  beforeAfter=list(set(before_after_commits))\n",
        "  refactoring_type=list(set(refactoring_type))\n",
        "  beforeAfter= beforeAfter[0]\n",
        "  refactoring_type=refactoring_type[0]\n",
        "  frame = pd.concat(li, axis=0, ignore_index=True)\n",
        "  frame.to_csv('/content/output/'+refactoring_type+\"/\"+beforeAfter+\".csv\")\n"
      ],
      "metadata": {
        "colab": {
          "base_uri": "https://localhost:8080/"
        },
        "id": "za_AQfbo1tDZ",
        "outputId": "cb75aa1c-5090-4f23-e657-5a27b3d6ca98"
      },
      "execution_count": null,
      "outputs": [
        {
          "output_type": "stream",
          "name": "stderr",
          "text": [
            "<ipython-input-7-e4a381a7cef1>:14: FutureWarning: Dropping of nuisance columns in DataFrame reductions (with 'numeric_only=None') is deprecated; in a future version this will raise TypeError.  Select only valid columns before calling the reduction.\n",
            "  output_mean =round(df.mean(axis=0), 5)\n"
          ]
        }
      ]
    },
    {
      "cell_type": "code",
      "source": [
        "!zip -r /content/twitter4j_output.zip /content/output"
      ],
      "metadata": {
        "id": "YRmJUcsi-T04"
      },
      "execution_count": null,
      "outputs": []
    },
    {
      "cell_type": "code",
      "source": [
        "# from google.colab import files\n",
        "# files.download(\"/content/output.zip\")"
      ],
      "metadata": {
        "id": "GoeJAMsZ-nN5"
      },
      "execution_count": null,
      "outputs": []
    },
    {
      "cell_type": "markdown",
      "source": [
        "# p-value"
      ],
      "metadata": {
        "id": "xqJGzQYR4pm5"
      }
    },
    {
      "cell_type": "code",
      "source": [
        "from scipy.stats import wilcoxon\n"
      ],
      "metadata": {
        "id": "lTWHAjTCLAxR"
      },
      "execution_count": null,
      "outputs": []
    },
    {
      "cell_type": "code",
      "source": [
        "!gdown 13itnnEIfXmp0jAwhqBBOIx_6RMdWfNMH"
      ],
      "metadata": {
        "colab": {
          "base_uri": "https://localhost:8080/"
        },
        "id": "MDSLHHcGNKJS",
        "outputId": "91469c37-4627-4479-afd3-37eea6023179"
      },
      "execution_count": null,
      "outputs": [
        {
          "output_type": "stream",
          "name": "stdout",
          "text": [
            "Downloading...\n",
            "From: https://drive.google.com/uc?id=13itnnEIfXmp0jAwhqBBOIx_6RMdWfNMH\n",
            "To: /content/all_avg.zip\n",
            "\r  0% 0.00/288k [00:00<?, ?B/s]\r100% 288k/288k [00:00<00:00, 55.8MB/s]\n"
          ]
        }
      ]
    },
    {
      "cell_type": "code",
      "source": [
        "!unzip /content/all_avg.zip"
      ],
      "metadata": {
        "id": "2lIJ80uSVqCS"
      },
      "execution_count": null,
      "outputs": []
    },
    {
      "cell_type": "code",
      "source": [
        "if path.exists('/content/p_val_output1/') == False:\n",
        "    os.mkdir('/content/p_val_output1')\n",
        "\n",
        "# for r_type in refactoring_types:\n",
        "#   dir_name = os.path.basename(r_type)\n",
        "#   if path.exists('/content/output/'+dir_name) == False:\n",
        "#      os.mkdir('/content/output/'+dir_name)"
      ],
      "metadata": {
        "id": "armyue1nKn_D"
      },
      "execution_count": null,
      "outputs": []
    },
    {
      "cell_type": "code",
      "source": [
        "directory = \"/content/all_avg\"\n",
        "refactor_types=[]\n",
        "# before_after=[]\n",
        "for root, subdirectories, files in os.walk(directory):\n",
        "    for subdirectory in subdirectories:\n",
        "      refactor_types.append(os.path.join(root, subdirectory))\n",
        "      # before_after.append(os.path.join(root, subdirectory))\n",
        "\n",
        "(refactor_types)\n"
      ],
      "metadata": {
        "colab": {
          "base_uri": "https://localhost:8080/"
        },
        "id": "I2cwt03GJ8i_",
        "outputId": "c93bf1f9-7761-462a-bb5b-3c936720ac08"
      },
      "execution_count": null,
      "outputs": [
        {
          "output_type": "execute_result",
          "data": {
            "text/plain": [
              "['/content/all_avg/collapse_Hierarchy',\n",
              " '/content/all_avg/extractClass',\n",
              " '/content/all_avg/mergeAttribute',\n",
              " '/content/all_avg/split_class',\n",
              " '/content/all_avg/remove_parameter',\n",
              " '/content/all_avg/encapsulateAttribute',\n",
              " '/content/all_avg/mergeClass',\n",
              " '/content/all_avg/push_down_attribute',\n",
              " '/content/all_avg/moveAttribute',\n",
              " '/content/all_avg/moveClass',\n",
              " '/content/all_avg/extractSuperclass',\n",
              " '/content/all_avg/add_parameter',\n",
              " '/content/all_avg/extractSubclass',\n",
              " '/content/all_avg/changeMethodAccessModifier',\n",
              " '/content/all_avg/pull_up_method',\n",
              " '/content/all_avg/moveMethod',\n",
              " '/content/all_avg/inlineMethod',\n",
              " '/content/all_avg/addMethodModifier',\n",
              " '/content/all_avg/push_down_method',\n",
              " '/content/all_avg/extractMethod',\n",
              " '/content/all_avg/pull_up_attribute',\n",
              " '/content/all_avg/changeAttributeAccessModifier']"
            ]
          },
          "metadata": {},
          "execution_count": 15
        }
      ]
    },
    {
      "cell_type": "code",
      "source": [
        "# refactor_types= refactor_types[1:]\n",
        "# refactor_types.remove('/content/avg/inlineMethod')\n",
        "refactor_types"
      ],
      "metadata": {
        "colab": {
          "base_uri": "https://localhost:8080/"
        },
        "id": "OdsficNBRDLI",
        "outputId": "47987286-4b5e-4635-f7df-70be8444b56e"
      },
      "execution_count": null,
      "outputs": [
        {
          "output_type": "execute_result",
          "data": {
            "text/plain": [
              "['/content/all_avg/collapse_Hierarchy',\n",
              " '/content/all_avg/extractClass',\n",
              " '/content/all_avg/mergeAttribute',\n",
              " '/content/all_avg/split_class',\n",
              " '/content/all_avg/remove_parameter',\n",
              " '/content/all_avg/encapsulateAttribute',\n",
              " '/content/all_avg/mergeClass',\n",
              " '/content/all_avg/push_down_attribute',\n",
              " '/content/all_avg/moveAttribute',\n",
              " '/content/all_avg/moveClass',\n",
              " '/content/all_avg/extractSuperclass',\n",
              " '/content/all_avg/add_parameter',\n",
              " '/content/all_avg/extractSubclass',\n",
              " '/content/all_avg/changeMethodAccessModifier',\n",
              " '/content/all_avg/pull_up_method',\n",
              " '/content/all_avg/moveMethod',\n",
              " '/content/all_avg/inlineMethod',\n",
              " '/content/all_avg/addMethodModifier',\n",
              " '/content/all_avg/push_down_method',\n",
              " '/content/all_avg/extractMethod',\n",
              " '/content/all_avg/pull_up_attribute',\n",
              " '/content/all_avg/changeAttributeAccessModifier']"
            ]
          },
          "metadata": {},
          "execution_count": 17
        }
      ]
    },
    {
      "cell_type": "code",
      "source": [
        "for i in refactor_types:\n",
        "    type_name = os.path.basename(i)\n",
        "    # print(type_name)\n",
        "\n",
        "    csv_files = glob.glob(i + \"/*.csv\")\n",
        "    # print(csv_files)\n",
        "    i=0\n",
        "    a=['df1','df2']\n",
        "\n",
        "    for filename in csv_files:\n",
        "      # a=\"df\"+str(i)\n",
        "      # print(a)\n",
        "      a[i] = pd.read_csv(filename,index_col=None)\n",
        "      a[i].sort_values([\"commitID\"], \n",
        "                    axis=0,\n",
        "                    ascending=[False], \n",
        "                    inplace=True)\n",
        "      i+=1\n",
        "\n",
        "    cols=a[1].columns.values.tolist()\n",
        "    cols_to_remove=['Unnamed: 0','commitID', 'publicMethodsQty', 'privateMethodsQty', 'protectedMethodsQty', 'defaultMethodsQty', 'visibleMethodsQty', 'abstractMethodsQty', 'finalMethodsQty', 'synchronizedMethodsQty', 'totalFieldsQty', 'staticFieldsQty', 'publicFieldsQty', 'privateFieldsQty', 'protectedFieldsQty', 'defaultFieldsQty', 'finalFieldsQty', 'synchronizedFieldsQty', 'nosi', 'returnQty', 'comparisonsQty', 'tryCatchQty', 'parenthesizedExpsQty', 'numbersQty', 'assignmentsQty', 'mathOperationsQty', 'variablesQty', 'anonymousClassesQty', 'innerClassesQty', 'lambdasQty', 'uniqueWordsQty', 'modifiers', 'logStatementsQty']\n",
        "    for i in cols_to_remove:\n",
        "      cols.remove(i)\n",
        "\n",
        "    # print(cols)\n",
        "    df1=a[0]\n",
        "    df2=a[1]\n",
        "    df3 = pd.DataFrame(columns = cols)\n",
        "    df3['commitID']= df2['commitID']\n",
        "    for col in cols:\n",
        "        df3[col] = round((df1[col] -  df2[col]), 5) \n",
        "\n",
        "    df3_cols=df3.columns.values.tolist()\n",
        "    df3_cols.remove('commitID') \n",
        "\n",
        "\n",
        "    df_pval = pd.DataFrame(columns = ['type','p_val'])\n",
        "\n",
        "    df_pval['type']=df3_cols\n",
        "    p_vals=[]\n",
        "\n",
        "    for col in df3_cols:\n",
        "      d=df3[col]\n",
        "      res = wilcoxon(d)\n",
        "      p=res.pvalue\n",
        "      p=p/6\n",
        "      p_vals.append(round((p),5))\n",
        "\n",
        "\n",
        "    df_pval['p_val']=p_vals\n",
        "    print(df_pval)\n",
        "    \n",
        "    df_pval.to_csv('/content/p_val_output1/'+type_name+'.csv')\n"
      ],
      "metadata": {
        "colab": {
          "base_uri": "https://localhost:8080/"
        },
        "id": "RYfPl405Ljf1",
        "outputId": "15df8525-990e-496d-b382-88345299c3e9"
      },
      "execution_count": null,
      "outputs": [
        {
          "output_type": "stream",
          "name": "stdout",
          "text": [
            "                  type    p_val\n",
            "0                  cbo  0.04167\n",
            "1          cboModified  0.02083\n",
            "2                fanin  0.04167\n",
            "3               fanout  0.04167\n",
            "4                  wmc  0.02083\n",
            "5                  dit  0.02083\n",
            "6                  noc  0.04167\n",
            "7                  rfc  0.02083\n",
            "8                 lcom  0.10417\n",
            "9                lcom*  0.04167\n",
            "10                 tcc  0.04167\n",
            "11                 lcc  0.04167\n",
            "12     totalMethodsQty  0.02083\n",
            "13    staticMethodsQty  0.02083\n",
            "14                 loc  0.10417\n",
            "15             loopQty  0.02083\n",
            "16   stringLiteralsQty  0.02083\n",
            "17  maxNestedBlocksQty  0.02083\n",
            "                  type    p_val\n",
            "0                  cbo  0.12655\n",
            "1          cboModified  0.13528\n",
            "2                fanin  0.05064\n",
            "3               fanout  0.12655\n",
            "4                  wmc  0.04047\n",
            "5                  dit  0.01480\n",
            "6                  noc  0.00263\n",
            "7                  rfc  0.04796\n",
            "8                 lcom  0.13528\n",
            "9                lcom*  0.02797\n",
            "10                 tcc  0.01942\n",
            "11                 lcc  0.01942\n",
            "12     totalMethodsQty  0.05628\n",
            "13    staticMethodsQty  0.00701\n",
            "14                 loc  0.05064\n",
            "15             loopQty  0.00360\n",
            "16   stringLiteralsQty  0.03595\n",
            "17  maxNestedBlocksQty  0.00133\n",
            "                  type    p_val\n",
            "0                  cbo  0.14583\n",
            "1          cboModified  0.14583\n",
            "2                fanin  0.14583\n",
            "3               fanout  0.14583\n",
            "4                  wmc  0.10417\n",
            "5                  dit  0.10912\n",
            "6                  noc  0.10912\n",
            "7                  rfc  0.10417\n",
            "8                 lcom  0.06250\n",
            "9                lcom*  0.10417\n",
            "10                 tcc  0.02995\n",
            "11                 lcc  0.02995\n",
            "12     totalMethodsQty  0.10417\n",
            "13    staticMethodsQty  0.01813\n",
            "14                 loc  0.06250\n",
            "15             loopQty  0.01813\n",
            "16   stringLiteralsQty  0.02083\n",
            "17  maxNestedBlocksQty  0.04751\n",
            "                  type    p_val\n",
            "0                  cbo  0.08333\n",
            "1          cboModified  0.08333\n",
            "2                fanin  0.08333\n",
            "3               fanout  0.08333\n",
            "4                  wmc  0.04167\n",
            "5                  dit  0.08333\n",
            "6                  noc  0.04167\n",
            "7                  rfc  0.08333\n",
            "8                 lcom  0.04167\n",
            "9                lcom*  0.04167\n",
            "10                 tcc  0.04167\n",
            "11                 lcc  0.04167\n",
            "12     totalMethodsQty  0.08333\n",
            "13    staticMethodsQty  0.04167\n",
            "14                 loc  0.08333\n",
            "15             loopQty  0.08333\n",
            "16   stringLiteralsQty  0.08333\n",
            "17  maxNestedBlocksQty  0.08333\n",
            "                  type    p_val\n",
            "0                  cbo  0.01272\n",
            "1          cboModified  0.02079\n",
            "2                fanin  0.01522\n",
            "3               fanout  0.01272\n",
            "4                  wmc  0.03006\n",
            "5                  dit  0.00410\n",
            "6                  noc  0.00268\n",
            "7                  rfc  0.03745\n",
            "8                 lcom  0.11088\n",
            "9                lcom*  0.00221\n",
            "10                 tcc  0.00204\n",
            "11                 lcc  0.00204\n",
            "12     totalMethodsQty  0.01758\n",
            "13    staticMethodsQty  0.00326\n",
            "14                 loc  0.10094\n",
            "15             loopQty  0.00124\n",
            "16   stringLiteralsQty  0.12039\n",
            "17  maxNestedBlocksQty  0.00503\n"
          ]
        },
        {
          "output_type": "stream",
          "name": "stderr",
          "text": [
            "/usr/local/lib/python3.8/dist-packages/scipy/stats/morestats.py:3141: UserWarning: Exact p-value calculation does not work if there are ties. Switching to normal approximation.\n",
            "  warnings.warn(\"Exact p-value calculation does not work if there are \"\n",
            "/usr/local/lib/python3.8/dist-packages/scipy/stats/morestats.py:3141: UserWarning: Exact p-value calculation does not work if there are ties. Switching to normal approximation.\n",
            "  warnings.warn(\"Exact p-value calculation does not work if there are \"\n",
            "/usr/local/lib/python3.8/dist-packages/scipy/stats/morestats.py:3155: UserWarning: Sample size too small for normal approximation.\n",
            "  warnings.warn(\"Sample size too small for normal approximation.\")\n"
          ]
        },
        {
          "output_type": "stream",
          "name": "stdout",
          "text": [
            "                  type    p_val\n",
            "0                  cbo  0.03948\n",
            "1          cboModified  0.05441\n",
            "2                fanin  0.01301\n",
            "3               fanout  0.03948\n",
            "4                  wmc  0.12188\n",
            "5                  dit  0.00352\n",
            "6                  noc  0.00425\n",
            "7                  rfc  0.06449\n",
            "8                 lcom  0.08359\n",
            "9                lcom*  0.00056\n",
            "10                 tcc  0.00233\n",
            "11                 lcc  0.00233\n",
            "12     totalMethodsQty  0.01778\n",
            "13    staticMethodsQty  0.00215\n",
            "14                 loc  0.07603\n",
            "15             loopQty  0.00278\n",
            "16   stringLiteralsQty  0.12295\n",
            "17  maxNestedBlocksQty  0.00296\n",
            "                  type    p_val\n",
            "0                  cbo  0.05208\n",
            "1          cboModified  0.03646\n",
            "2                fanin  0.00521\n",
            "3               fanout  0.05208\n",
            "4                  wmc  0.01562\n",
            "5                  dit  0.01042\n",
            "6                  noc  0.01042\n",
            "7                  rfc  0.03646\n",
            "8                 lcom  0.07292\n",
            "9                lcom*  0.00521\n",
            "10                 tcc  0.00719\n",
            "11                 lcc  0.00719\n",
            "12     totalMethodsQty  0.03646\n",
            "13    staticMethodsQty  0.01042\n",
            "14                 loc  0.05208\n",
            "15             loopQty  0.00521\n",
            "16   stringLiteralsQty  0.14062\n",
            "17  maxNestedBlocksQty  0.00521\n",
            "                  type    p_val\n",
            "0                  cbo  0.06591\n",
            "1          cboModified  0.05874\n",
            "2                fanin  0.03851\n",
            "3               fanout  0.04021\n",
            "4                  wmc  0.11809\n",
            "5                  dit  0.02616\n",
            "6                  noc  0.03315\n",
            "7                  rfc  0.02813\n",
            "8                 lcom  0.13813\n",
            "9                lcom*  0.00910\n",
            "10                 tcc  0.16249\n",
            "11                 lcc  0.16249\n",
            "12     totalMethodsQty  0.06967\n",
            "13    staticMethodsQty  0.06200\n",
            "14                 loc  0.03502\n",
            "15             loopQty  0.01178\n",
            "16   stringLiteralsQty  0.02607\n",
            "17  maxNestedBlocksQty  0.02216\n",
            "                  type    p_val\n",
            "0                  cbo  0.07110\n",
            "1          cboModified  0.08691\n",
            "2                fanin  0.01233\n",
            "3               fanout  0.07110\n",
            "4                  wmc  0.09641\n",
            "5                  dit  0.00546\n",
            "6                  noc  0.00379\n",
            "7                  rfc  0.07277\n",
            "8                 lcom  0.16073\n",
            "9                lcom*  0.00447\n",
            "10                 tcc  0.00168\n",
            "11                 lcc  0.00168\n",
            "12     totalMethodsQty  0.03586\n",
            "13    staticMethodsQty  0.00379\n",
            "14                 loc  0.06946\n",
            "15             loopQty  0.00740\n",
            "16   stringLiteralsQty  0.11675\n",
            "17  maxNestedBlocksQty  0.00327\n"
          ]
        },
        {
          "output_type": "stream",
          "name": "stderr",
          "text": [
            "/usr/local/lib/python3.8/dist-packages/scipy/stats/morestats.py:3141: UserWarning: Exact p-value calculation does not work if there are ties. Switching to normal approximation.\n",
            "  warnings.warn(\"Exact p-value calculation does not work if there are \"\n",
            "/usr/local/lib/python3.8/dist-packages/scipy/stats/morestats.py:3155: UserWarning: Sample size too small for normal approximation.\n",
            "  warnings.warn(\"Sample size too small for normal approximation.\")\n",
            "/usr/local/lib/python3.8/dist-packages/scipy/stats/morestats.py:3141: UserWarning: Exact p-value calculation does not work if there are ties. Switching to normal approximation.\n",
            "  warnings.warn(\"Exact p-value calculation does not work if there are \"\n"
          ]
        },
        {
          "output_type": "stream",
          "name": "stdout",
          "text": [
            "                  type    p_val\n",
            "0                  cbo  0.04921\n",
            "1          cboModified  0.05711\n",
            "2                fanin  0.00411\n",
            "3               fanout  0.04921\n",
            "4                  wmc  0.05950\n",
            "5                  dit  0.00225\n",
            "6                  noc  0.00145\n",
            "7                  rfc  0.07659\n",
            "8                 lcom  0.07659\n",
            "9                lcom*  0.00342\n",
            "10                 tcc  0.00460\n",
            "11                 lcc  0.00460\n",
            "12     totalMethodsQty  0.03657\n",
            "13    staticMethodsQty  0.00091\n",
            "14                 loc  0.08089\n",
            "15             loopQty  0.00342\n",
            "16   stringLiteralsQty  0.14817\n",
            "17  maxNestedBlocksQty  0.01025\n",
            "                  type    p_val\n",
            "0                  cbo  0.00281\n",
            "1          cboModified  0.00135\n",
            "2                fanin  0.00069\n",
            "3               fanout  0.00281\n",
            "4                  wmc  0.02718\n",
            "5                  dit  0.00034\n",
            "6                  noc  0.00053\n",
            "7                  rfc  0.01128\n",
            "8                 lcom  0.05782\n",
            "9                lcom*  0.00024\n",
            "10                 tcc  0.00231\n",
            "11                 lcc  0.00231\n",
            "12     totalMethodsQty  0.01300\n",
            "13    staticMethodsQty  0.00022\n",
            "14                 loc  0.02309\n",
            "15             loopQty  0.00032\n",
            "16   stringLiteralsQty  0.01494\n",
            "17  maxNestedBlocksQty  0.00126\n",
            "                  type    p_val\n",
            "0                  cbo  0.02094\n",
            "1          cboModified  0.02236\n",
            "2                fanin  0.01143\n",
            "3               fanout  0.02094\n",
            "4                  wmc  0.01760\n",
            "5                  dit  0.01278\n",
            "6                  noc  0.02240\n",
            "7                  rfc  0.04595\n",
            "8                 lcom  0.03054\n",
            "9                lcom*  0.00475\n",
            "10                 tcc  0.00767\n",
            "11                 lcc  0.00767\n",
            "12     totalMethodsQty  0.01643\n",
            "13    staticMethodsQty  0.01050\n",
            "14                 loc  0.07431\n",
            "15             loopQty  0.00636\n",
            "16   stringLiteralsQty  0.06110\n",
            "17  maxNestedBlocksQty  0.02067\n",
            "                  type    p_val\n",
            "0                  cbo  0.02814\n",
            "1          cboModified  0.05504\n",
            "2                fanin  0.05504\n",
            "3               fanout  0.02814\n",
            "4                  wmc  0.06490\n",
            "5                  dit  0.04206\n",
            "6                  noc  0.04206\n",
            "7                  rfc  0.02814\n",
            "8                 lcom  0.11313\n",
            "9                lcom*  0.02009\n",
            "10                 tcc  0.01824\n",
            "11                 lcc  0.01824\n",
            "12     totalMethodsQty  0.04614\n",
            "13    staticMethodsQty  0.05504\n",
            "14                 loc  0.01217\n",
            "15             loopQty  0.02524\n",
            "16   stringLiteralsQty  0.02256\n",
            "17  maxNestedBlocksQty  0.04614\n"
          ]
        },
        {
          "output_type": "stream",
          "name": "stderr",
          "text": [
            "/usr/local/lib/python3.8/dist-packages/scipy/stats/morestats.py:3141: UserWarning: Exact p-value calculation does not work if there are ties. Switching to normal approximation.\n",
            "  warnings.warn(\"Exact p-value calculation does not work if there are \"\n"
          ]
        },
        {
          "output_type": "stream",
          "name": "stdout",
          "text": [
            "                  type    p_val\n",
            "0                  cbo  0.01251\n",
            "1          cboModified  0.01429\n",
            "2                fanin  0.08665\n",
            "3               fanout  0.01251\n",
            "4                  wmc  0.09039\n",
            "5                  dit  0.00914\n",
            "6                  noc  0.00779\n",
            "7                  rfc  0.08155\n",
            "8                 lcom  0.10207\n",
            "9                lcom*  0.00233\n",
            "10                 tcc  0.00850\n",
            "11                 lcc  0.00850\n",
            "12     totalMethodsQty  0.04915\n",
            "13    staticMethodsQty  0.00996\n",
            "14                 loc  0.15848\n",
            "15             loopQty  0.00491\n",
            "16   stringLiteralsQty  0.06727\n",
            "17  maxNestedBlocksQty  0.01976\n",
            "                  type    p_val\n",
            "0                  cbo  0.04915\n",
            "1          cboModified  0.13116\n",
            "2                fanin  0.13673\n",
            "3               fanout  0.04915\n",
            "4                  wmc  0.06159\n",
            "5                  dit  0.00839\n",
            "6                  noc  0.00143\n",
            "7                  rfc  0.08263\n",
            "8                 lcom  0.09444\n",
            "9                lcom*  0.00153\n",
            "10                 tcc  0.00026\n",
            "11                 lcc  0.00026\n",
            "12     totalMethodsQty  0.03977\n",
            "13    staticMethodsQty  0.00044\n",
            "14                 loc  0.15089\n",
            "15             loopQty  0.00079\n",
            "16   stringLiteralsQty  0.11365\n",
            "17  maxNestedBlocksQty  0.01362\n",
            "                  type    p_val\n",
            "0                  cbo  0.08487\n",
            "1          cboModified  0.06177\n",
            "2                fanin  0.02765\n",
            "3               fanout  0.08487\n",
            "4                  wmc  0.11907\n",
            "5                  dit  0.02732\n",
            "6                  noc  0.01012\n",
            "7                  rfc  0.13651\n",
            "8                 lcom  0.16319\n",
            "9                lcom*  0.00865\n",
            "10                 tcc  0.00923\n",
            "11                 lcc  0.00923\n",
            "12     totalMethodsQty  0.04585\n",
            "13    staticMethodsQty  0.01276\n",
            "14                 loc  0.15192\n",
            "15             loopQty  0.01389\n",
            "16   stringLiteralsQty  0.15192\n",
            "17  maxNestedBlocksQty  0.02732\n",
            "                  type    p_val\n",
            "0                  cbo  0.11589\n",
            "1          cboModified  0.15365\n",
            "2                fanin  0.15365\n",
            "3               fanout  0.11589\n",
            "4                  wmc  0.15365\n",
            "5                  dit  0.15365\n",
            "6                  noc  0.14095\n",
            "7                  rfc  0.15365\n",
            "8                 lcom  0.12826\n",
            "9                lcom*  0.10417\n",
            "10                 tcc  0.16667\n",
            "11                 lcc  0.16667\n",
            "12     totalMethodsQty  0.11589\n",
            "13    staticMethodsQty  0.09277\n",
            "14                 loc  0.16667\n",
            "15             loopQty  0.11589\n",
            "16   stringLiteralsQty  0.10417\n",
            "17  maxNestedBlocksQty  0.09277\n",
            "                  type    p_val\n",
            "0                  cbo  0.15159\n",
            "1          cboModified  0.13671\n",
            "2                fanin  0.15912\n",
            "3               fanout  0.15159\n",
            "4                  wmc  0.14338\n",
            "5                  dit  0.13768\n",
            "6                  noc  0.16249\n",
            "7                  rfc  0.16332\n",
            "8                 lcom  0.16332\n",
            "9                lcom*  0.13682\n",
            "10                 tcc  0.13446\n",
            "11                 lcc  0.13446\n",
            "12     totalMethodsQty  0.16667\n",
            "13    staticMethodsQty  0.13671\n",
            "14                 loc  0.15665\n",
            "15             loopQty  0.14588\n",
            "16   stringLiteralsQty  0.16249\n",
            "17  maxNestedBlocksQty  0.15159\n"
          ]
        },
        {
          "output_type": "stream",
          "name": "stderr",
          "text": [
            "/usr/local/lib/python3.8/dist-packages/scipy/stats/morestats.py:3141: UserWarning: Exact p-value calculation does not work if there are ties. Switching to normal approximation.\n",
            "  warnings.warn(\"Exact p-value calculation does not work if there are \"\n",
            "/usr/local/lib/python3.8/dist-packages/scipy/stats/morestats.py:3141: UserWarning: Exact p-value calculation does not work if there are ties. Switching to normal approximation.\n",
            "  warnings.warn(\"Exact p-value calculation does not work if there are \"\n"
          ]
        },
        {
          "output_type": "stream",
          "name": "stdout",
          "text": [
            "                  type    p_val\n",
            "0                  cbo  0.03637\n",
            "1          cboModified  0.04406\n",
            "2                fanin  0.05508\n",
            "3               fanout  0.03637\n",
            "4                  wmc  0.08479\n",
            "5                  dit  0.05508\n",
            "6                  noc  0.01790\n",
            "7                  rfc  0.05048\n",
            "8                 lcom  0.13164\n",
            "9                lcom*  0.02014\n",
            "10                 tcc  0.02134\n",
            "11                 lcc  0.02134\n",
            "12     totalMethodsQty  0.12096\n",
            "13    staticMethodsQty  0.07316\n",
            "14                 loc  0.13890\n",
            "15             loopQty  0.01685\n",
            "16   stringLiteralsQty  0.10055\n",
            "17  maxNestedBlocksQty  0.03460\n",
            "                  type    p_val\n",
            "0                  cbo  0.04679\n",
            "1          cboModified  0.03779\n",
            "2                fanin  0.03853\n",
            "3               fanout  0.04679\n",
            "4                  wmc  0.12026\n",
            "5                  dit  0.01599\n",
            "6                  noc  0.01717\n",
            "7                  rfc  0.14991\n",
            "8                 lcom  0.16190\n",
            "9                lcom*  0.03673\n",
            "10                 tcc  0.03493\n",
            "11                 lcc  0.03493\n",
            "12     totalMethodsQty  0.05069\n",
            "13    staticMethodsQty  0.02431\n",
            "14                 loc  0.16642\n",
            "15             loopQty  0.01231\n",
            "16   stringLiteralsQty  0.15522\n",
            "17  maxNestedBlocksQty  0.02709\n",
            "                  type    p_val\n",
            "0                  cbo  0.08986\n",
            "1          cboModified  0.10555\n",
            "2                fanin  0.13089\n",
            "3               fanout  0.08986\n",
            "4                  wmc  0.05064\n",
            "5                  dit  0.02135\n",
            "6                  noc  0.06543\n",
            "7                  rfc  0.05924\n",
            "8                 lcom  0.07539\n",
            "9                lcom*  0.10964\n",
            "10                 tcc  0.03084\n",
            "11                 lcc  0.03084\n",
            "12     totalMethodsQty  0.09368\n",
            "13    staticMethodsQty  0.01851\n",
            "14                 loc  0.11799\n",
            "15             loopQty  0.05628\n",
            "16   stringLiteralsQty  0.07889\n",
            "17  maxNestedBlocksQty  0.05064\n",
            "                  type    p_val\n",
            "0                  cbo  0.01531\n",
            "1          cboModified  0.01531\n",
            "2                fanin  0.00189\n",
            "3               fanout  0.01531\n",
            "4                  wmc  0.05220\n",
            "5                  dit  0.00684\n",
            "6                  noc  0.00203\n",
            "7                  rfc  0.03932\n",
            "8                 lcom  0.15982\n",
            "9                lcom*  0.00382\n",
            "10                 tcc  0.02355\n",
            "11                 lcc  0.02355\n",
            "12     totalMethodsQty  0.02887\n",
            "13    staticMethodsQty  0.00722\n",
            "14                 loc  0.09183\n",
            "15             loopQty  0.00801\n",
            "16   stringLiteralsQty  0.14058\n",
            "17  maxNestedBlocksQty  0.00935\n"
          ]
        }
      ]
    },
    {
      "cell_type": "code",
      "source": [
        "!zip -r /content/p_val_output.zip /content/p_val_output1"
      ],
      "metadata": {
        "colab": {
          "base_uri": "https://localhost:8080/"
        },
        "id": "A73d-b1WOJKB",
        "outputId": "4f958481-5900-4dca-b67e-02b9f95b77a6"
      },
      "execution_count": null,
      "outputs": [
        {
          "output_type": "stream",
          "name": "stdout",
          "text": [
            "  adding: content/p_val_output1/ (stored 0%)\n",
            "  adding: content/p_val_output1/remove_parameter.csv (deflated 39%)\n",
            "  adding: content/p_val_output1/changeMethodAccessModifier.csv (deflated 40%)\n",
            "  adding: content/p_val_output1/mergeClass.csv (deflated 43%)\n",
            "  adding: content/p_val_output1/pull_up_method.csv (deflated 38%)\n",
            "  adding: content/p_val_output1/encapsulateAttribute.csv (deflated 39%)\n",
            "  adding: content/p_val_output1/extractSubclass.csv (deflated 41%)\n",
            "  adding: content/p_val_output1/add_parameter.csv (deflated 39%)\n",
            "  adding: content/p_val_output1/moveMethod.csv (deflated 39%)\n",
            "  adding: content/p_val_output1/push_down_method.csv (deflated 38%)\n",
            "  adding: content/p_val_output1/extractMethod.csv (deflated 39%)\n",
            "  adding: content/p_val_output1/mergeAttribute.csv (deflated 44%)\n",
            "  adding: content/p_val_output1/changeAttributeAccessModifier.csv (deflated 39%)\n",
            "  adding: content/p_val_output1/extractClass.csv (deflated 39%)\n",
            "  adding: content/p_val_output1/extractSuperclass.csv (deflated 40%)\n",
            "  adding: content/p_val_output1/split_class.csv (deflated 51%)\n",
            "  adding: content/p_val_output1/inlineMethod.csv (deflated 45%)\n",
            "  adding: content/p_val_output1/pull_up_attribute.csv (deflated 38%)\n",
            "  adding: content/p_val_output1/moveClass.csv (deflated 39%)\n",
            "  adding: content/p_val_output1/moveAttribute.csv (deflated 39%)\n",
            "  adding: content/p_val_output1/addMethodModifier.csv (deflated 40%)\n",
            "  adding: content/p_val_output1/collapse_Hierarchy.csv (deflated 49%)\n",
            "  adding: content/p_val_output1/push_down_attribute.csv (deflated 38%)\n"
          ]
        }
      ]
    },
    {
      "cell_type": "markdown",
      "source": [
        "------------------------------------------------\n",
        "------------------------------------------------\n",
        "------------------------------------------------\n",
        "------------------------------------------------\n",
        "------------------------------------------------\n",
        "------------------------------------------------"
      ],
      "metadata": {
        "id": "U9yko0kvN87P"
      }
    },
    {
      "cell_type": "code",
      "source": [
        "df2 = pd.read_csv('/content/output/add_parameter/after.csv')\n",
        "df1 = pd.read_csv('/content/output/add_parameter/before.csv')\n",
        "# df3 = pd.DataFrame(cols)\n"
      ],
      "metadata": {
        "id": "mjEN94WL49ca"
      },
      "execution_count": null,
      "outputs": []
    },
    {
      "cell_type": "code",
      "source": [
        "cols=df1.columns.values.tolist()\n",
        "cols_to_remove=['Unnamed: 0','commitID', 'publicMethodsQty', 'privateMethodsQty', 'protectedMethodsQty', 'defaultMethodsQty', 'visibleMethodsQty', 'abstractMethodsQty', 'finalMethodsQty', 'synchronizedMethodsQty', 'staticFieldsQty', 'publicFieldsQty', 'privateFieldsQty', 'protectedFieldsQty', 'defaultFieldsQty', 'finalFieldsQty', 'synchronizedFieldsQty', 'nosi', 'returnQty', 'comparisonsQty', 'tryCatchQty', 'parenthesizedExpsQty', 'numbersQty', 'assignmentsQty', 'mathOperationsQty', 'variablesQty', 'anonymousClassesQty', 'innerClassesQty', 'lambdasQty', 'uniqueWordsQty', 'modifiers', 'logStatementsQty']\n",
        "for i in cols_to_remove:\n",
        "  cols.remove(i)\n",
        "\n",
        "print(cols)\n"
      ],
      "metadata": {
        "colab": {
          "base_uri": "https://localhost:8080/"
        },
        "id": "9nKFTwdHOAQ4",
        "outputId": "bd86fc6d-d026-44e3-9fba-5fea602ec6e1"
      },
      "execution_count": null,
      "outputs": [
        {
          "output_type": "stream",
          "name": "stdout",
          "text": [
            "['cbo', 'cboModified', 'fanin', 'fanout', 'wmc', 'dit', 'noc', 'rfc', 'lcom', 'lcom*', 'tcc', 'lcc', 'totalMethodsQty', 'staticMethodsQty', 'loc', 'loopQty', 'stringLiteralsQty', 'maxNestedBlocksQty']\n"
          ]
        }
      ]
    },
    {
      "cell_type": "code",
      "source": [
        "df3 = pd.DataFrame(columns = cols)\n",
        "df3['commitID']= df2['commitID']\n",
        "for col in cols:\n",
        "    df3[col] = round((df1[col] -  df2[col]), 5) \n",
        "\n",
        "# df3.drop([0], axis=1, inplace=True)\n",
        "df3.to_csv('filepath.csv')"
      ],
      "metadata": {
        "id": "TdmiHygBB5Vl"
      },
      "execution_count": null,
      "outputs": []
    },
    {
      "cell_type": "code",
      "source": [
        "df3_cols=df3.columns.values.tolist()\n",
        "df3_cols.remove('commitID')\n",
        "df3_cols"
      ],
      "metadata": {
        "colab": {
          "base_uri": "https://localhost:8080/"
        },
        "id": "ql34qRIR74tX",
        "outputId": "0fff71be-60dc-4cf1-9850-f9b1c9add610"
      },
      "execution_count": null,
      "outputs": [
        {
          "output_type": "execute_result",
          "data": {
            "text/plain": [
              "['cbo',\n",
              " 'cboModified',\n",
              " 'fanin',\n",
              " 'fanout',\n",
              " 'wmc',\n",
              " 'dit',\n",
              " 'noc',\n",
              " 'rfc',\n",
              " 'lcom',\n",
              " 'lcom*',\n",
              " 'tcc',\n",
              " 'lcc',\n",
              " 'totalMethodsQty',\n",
              " 'staticMethodsQty',\n",
              " 'loc',\n",
              " 'loopQty',\n",
              " 'stringLiteralsQty',\n",
              " 'maxNestedBlocksQty']"
            ]
          },
          "metadata": {},
          "execution_count": 24
        }
      ]
    },
    {
      "cell_type": "code",
      "source": [
        "df_pval = pd.DataFrame(columns = ['type','p_val'])\n",
        "\n",
        "df_pval['type']=df3_cols\n",
        "p_vals=[]\n",
        "\n",
        "for col in df3_cols:\n",
        "  d=df3[col]\n",
        "  res = wilcoxon(d)\n",
        "  p_vals.append(round((res.pvalue),5))\n",
        "  \n",
        "df_pval['p_val']=p_vals\n",
        "df_pval\n",
        "  "
      ],
      "metadata": {
        "colab": {
          "base_uri": "https://localhost:8080/",
          "height": 1000
        },
        "id": "_sf2HdtjRqPL",
        "outputId": "4d159889-5700-41e5-c15d-100fdd3a6bb3"
      },
      "execution_count": null,
      "outputs": [
        {
          "output_type": "stream",
          "name": "stdout",
          "text": [
            "cbo ==> 1.0\n",
            "cboModified ==> 0.6744240722352938\n",
            "fanin ==> 0.779434528427275\n",
            "fanout ==> 1.0\n",
            "wmc ==> 0.8203125\n",
            "dit ==> 1.0\n",
            "noc ==> 0.6744240722352938\n",
            "rfc ==> 0.6744240722352938\n",
            "lcom ==> 0.779434528427275\n",
            "lcom* ==> 0.8203125\n",
            "tcc ==> 0.7994953618696918\n",
            "lcc ==> 0.7994953618696918\n",
            "totalMethodsQty ==> 0.65234375\n",
            "staticMethodsQty ==> 0.5754030229127536\n",
            "loc ==> 0.734375\n",
            "loopQty ==> 0.8886378608950078\n",
            "stringLiteralsQty ==> 0.91015625\n",
            "maxNestedBlocksQty ==> 1.0\n"
          ]
        },
        {
          "output_type": "stream",
          "name": "stderr",
          "text": [
            "/usr/local/lib/python3.8/dist-packages/scipy/stats/morestats.py:3141: UserWarning: Exact p-value calculation does not work if there are ties. Switching to normal approximation.\n",
            "  warnings.warn(\"Exact p-value calculation does not work if there are \"\n",
            "/usr/local/lib/python3.8/dist-packages/scipy/stats/morestats.py:3155: UserWarning: Sample size too small for normal approximation.\n",
            "  warnings.warn(\"Sample size too small for normal approximation.\")\n"
          ]
        },
        {
          "output_type": "execute_result",
          "data": {
            "text/plain": [
              "                  type    p_val\n",
              "0                  cbo  1.00000\n",
              "1          cboModified  0.67442\n",
              "2                fanin  0.77943\n",
              "3               fanout  1.00000\n",
              "4                  wmc  0.82031\n",
              "5                  dit  1.00000\n",
              "6                  noc  0.67442\n",
              "7                  rfc  0.67442\n",
              "8                 lcom  0.77943\n",
              "9                lcom*  0.82031\n",
              "10                 tcc  0.79950\n",
              "11                 lcc  0.79950\n",
              "12     totalMethodsQty  0.65234\n",
              "13    staticMethodsQty  0.57540\n",
              "14                 loc  0.73438\n",
              "15             loopQty  0.88864\n",
              "16   stringLiteralsQty  0.91016\n",
              "17  maxNestedBlocksQty  1.00000"
            ],
            "text/html": [
              "\n",
              "  <div id=\"df-2d2bfa6b-54aa-41a1-8b03-0c8ffe403c15\">\n",
              "    <div class=\"colab-df-container\">\n",
              "      <div>\n",
              "<style scoped>\n",
              "    .dataframe tbody tr th:only-of-type {\n",
              "        vertical-align: middle;\n",
              "    }\n",
              "\n",
              "    .dataframe tbody tr th {\n",
              "        vertical-align: top;\n",
              "    }\n",
              "\n",
              "    .dataframe thead th {\n",
              "        text-align: right;\n",
              "    }\n",
              "</style>\n",
              "<table border=\"1\" class=\"dataframe\">\n",
              "  <thead>\n",
              "    <tr style=\"text-align: right;\">\n",
              "      <th></th>\n",
              "      <th>type</th>\n",
              "      <th>p_val</th>\n",
              "    </tr>\n",
              "  </thead>\n",
              "  <tbody>\n",
              "    <tr>\n",
              "      <th>0</th>\n",
              "      <td>cbo</td>\n",
              "      <td>1.00000</td>\n",
              "    </tr>\n",
              "    <tr>\n",
              "      <th>1</th>\n",
              "      <td>cboModified</td>\n",
              "      <td>0.67442</td>\n",
              "    </tr>\n",
              "    <tr>\n",
              "      <th>2</th>\n",
              "      <td>fanin</td>\n",
              "      <td>0.77943</td>\n",
              "    </tr>\n",
              "    <tr>\n",
              "      <th>3</th>\n",
              "      <td>fanout</td>\n",
              "      <td>1.00000</td>\n",
              "    </tr>\n",
              "    <tr>\n",
              "      <th>4</th>\n",
              "      <td>wmc</td>\n",
              "      <td>0.82031</td>\n",
              "    </tr>\n",
              "    <tr>\n",
              "      <th>5</th>\n",
              "      <td>dit</td>\n",
              "      <td>1.00000</td>\n",
              "    </tr>\n",
              "    <tr>\n",
              "      <th>6</th>\n",
              "      <td>noc</td>\n",
              "      <td>0.67442</td>\n",
              "    </tr>\n",
              "    <tr>\n",
              "      <th>7</th>\n",
              "      <td>rfc</td>\n",
              "      <td>0.67442</td>\n",
              "    </tr>\n",
              "    <tr>\n",
              "      <th>8</th>\n",
              "      <td>lcom</td>\n",
              "      <td>0.77943</td>\n",
              "    </tr>\n",
              "    <tr>\n",
              "      <th>9</th>\n",
              "      <td>lcom*</td>\n",
              "      <td>0.82031</td>\n",
              "    </tr>\n",
              "    <tr>\n",
              "      <th>10</th>\n",
              "      <td>tcc</td>\n",
              "      <td>0.79950</td>\n",
              "    </tr>\n",
              "    <tr>\n",
              "      <th>11</th>\n",
              "      <td>lcc</td>\n",
              "      <td>0.79950</td>\n",
              "    </tr>\n",
              "    <tr>\n",
              "      <th>12</th>\n",
              "      <td>totalMethodsQty</td>\n",
              "      <td>0.65234</td>\n",
              "    </tr>\n",
              "    <tr>\n",
              "      <th>13</th>\n",
              "      <td>staticMethodsQty</td>\n",
              "      <td>0.57540</td>\n",
              "    </tr>\n",
              "    <tr>\n",
              "      <th>14</th>\n",
              "      <td>loc</td>\n",
              "      <td>0.73438</td>\n",
              "    </tr>\n",
              "    <tr>\n",
              "      <th>15</th>\n",
              "      <td>loopQty</td>\n",
              "      <td>0.88864</td>\n",
              "    </tr>\n",
              "    <tr>\n",
              "      <th>16</th>\n",
              "      <td>stringLiteralsQty</td>\n",
              "      <td>0.91016</td>\n",
              "    </tr>\n",
              "    <tr>\n",
              "      <th>17</th>\n",
              "      <td>maxNestedBlocksQty</td>\n",
              "      <td>1.00000</td>\n",
              "    </tr>\n",
              "  </tbody>\n",
              "</table>\n",
              "</div>\n",
              "      <button class=\"colab-df-convert\" onclick=\"convertToInteractive('df-2d2bfa6b-54aa-41a1-8b03-0c8ffe403c15')\"\n",
              "              title=\"Convert this dataframe to an interactive table.\"\n",
              "              style=\"display:none;\">\n",
              "        \n",
              "  <svg xmlns=\"http://www.w3.org/2000/svg\" height=\"24px\"viewBox=\"0 0 24 24\"\n",
              "       width=\"24px\">\n",
              "    <path d=\"M0 0h24v24H0V0z\" fill=\"none\"/>\n",
              "    <path d=\"M18.56 5.44l.94 2.06.94-2.06 2.06-.94-2.06-.94-.94-2.06-.94 2.06-2.06.94zm-11 1L8.5 8.5l.94-2.06 2.06-.94-2.06-.94L8.5 2.5l-.94 2.06-2.06.94zm10 10l.94 2.06.94-2.06 2.06-.94-2.06-.94-.94-2.06-.94 2.06-2.06.94z\"/><path d=\"M17.41 7.96l-1.37-1.37c-.4-.4-.92-.59-1.43-.59-.52 0-1.04.2-1.43.59L10.3 9.45l-7.72 7.72c-.78.78-.78 2.05 0 2.83L4 21.41c.39.39.9.59 1.41.59.51 0 1.02-.2 1.41-.59l7.78-7.78 2.81-2.81c.8-.78.8-2.07 0-2.86zM5.41 20L4 18.59l7.72-7.72 1.47 1.35L5.41 20z\"/>\n",
              "  </svg>\n",
              "      </button>\n",
              "      \n",
              "  <style>\n",
              "    .colab-df-container {\n",
              "      display:flex;\n",
              "      flex-wrap:wrap;\n",
              "      gap: 12px;\n",
              "    }\n",
              "\n",
              "    .colab-df-convert {\n",
              "      background-color: #E8F0FE;\n",
              "      border: none;\n",
              "      border-radius: 50%;\n",
              "      cursor: pointer;\n",
              "      display: none;\n",
              "      fill: #1967D2;\n",
              "      height: 32px;\n",
              "      padding: 0 0 0 0;\n",
              "      width: 32px;\n",
              "    }\n",
              "\n",
              "    .colab-df-convert:hover {\n",
              "      background-color: #E2EBFA;\n",
              "      box-shadow: 0px 1px 2px rgba(60, 64, 67, 0.3), 0px 1px 3px 1px rgba(60, 64, 67, 0.15);\n",
              "      fill: #174EA6;\n",
              "    }\n",
              "\n",
              "    [theme=dark] .colab-df-convert {\n",
              "      background-color: #3B4455;\n",
              "      fill: #D2E3FC;\n",
              "    }\n",
              "\n",
              "    [theme=dark] .colab-df-convert:hover {\n",
              "      background-color: #434B5C;\n",
              "      box-shadow: 0px 1px 3px 1px rgba(0, 0, 0, 0.15);\n",
              "      filter: drop-shadow(0px 1px 2px rgba(0, 0, 0, 0.3));\n",
              "      fill: #FFFFFF;\n",
              "    }\n",
              "  </style>\n",
              "\n",
              "      <script>\n",
              "        const buttonEl =\n",
              "          document.querySelector('#df-2d2bfa6b-54aa-41a1-8b03-0c8ffe403c15 button.colab-df-convert');\n",
              "        buttonEl.style.display =\n",
              "          google.colab.kernel.accessAllowed ? 'block' : 'none';\n",
              "\n",
              "        async function convertToInteractive(key) {\n",
              "          const element = document.querySelector('#df-2d2bfa6b-54aa-41a1-8b03-0c8ffe403c15');\n",
              "          const dataTable =\n",
              "            await google.colab.kernel.invokeFunction('convertToInteractive',\n",
              "                                                     [key], {});\n",
              "          if (!dataTable) return;\n",
              "\n",
              "          const docLinkHtml = 'Like what you see? Visit the ' +\n",
              "            '<a target=\"_blank\" href=https://colab.research.google.com/notebooks/data_table.ipynb>data table notebook</a>'\n",
              "            + ' to learn more about interactive tables.';\n",
              "          element.innerHTML = '';\n",
              "          dataTable['output_type'] = 'display_data';\n",
              "          await google.colab.output.renderOutput(dataTable, element);\n",
              "          const docLink = document.createElement('div');\n",
              "          docLink.innerHTML = docLinkHtml;\n",
              "          element.appendChild(docLink);\n",
              "        }\n",
              "      </script>\n",
              "    </div>\n",
              "  </div>\n",
              "  "
            ]
          },
          "metadata": {},
          "execution_count": 34
        }
      ]
    }
  ]
}